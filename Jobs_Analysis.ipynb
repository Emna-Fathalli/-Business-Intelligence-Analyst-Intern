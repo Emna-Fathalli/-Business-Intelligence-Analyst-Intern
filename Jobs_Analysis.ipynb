{
 "cells": [
  {
   "cell_type": "markdown",
   "id": "e236bff1",
   "metadata": {},
   "source": [
    "# Jobs Analysis"
   ]
  },
  {
   "cell_type": "code",
   "execution_count": 2,
   "id": "a005ab98",
   "metadata": {},
   "outputs": [],
   "source": [
    "#IMPORTING NECCESSARY LIBRARIES REQUIRED FOR ANALYSIS\n",
    "import numpy as np\n",
    "import pandas as pd\n",
    "import matplotlib.pyplot as plt \n",
    "%matplotlib inline\n",
    "import seaborn as sns\n",
    "import scipy.stats as st\n",
    "import warnings\n",
    "warnings.filterwarnings('ignore')"
   ]
  },
  {
   "cell_type": "code",
   "execution_count": 3,
   "id": "7a0c8d04",
   "metadata": {},
   "outputs": [],
   "source": [
    "#read dataframe\n",
    "df = pd.read_csv('Software_Professional_Salaries.csv')"
   ]
  },
  {
   "cell_type": "code",
   "execution_count": 4,
   "id": "d570bb45",
   "metadata": {},
   "outputs": [
    {
     "data": {
      "text/html": [
       "<div>\n",
       "<style scoped>\n",
       "    .dataframe tbody tr th:only-of-type {\n",
       "        vertical-align: middle;\n",
       "    }\n",
       "\n",
       "    .dataframe tbody tr th {\n",
       "        vertical-align: top;\n",
       "    }\n",
       "\n",
       "    .dataframe thead th {\n",
       "        text-align: right;\n",
       "    }\n",
       "</style>\n",
       "<table border=\"1\" class=\"dataframe\">\n",
       "  <thead>\n",
       "    <tr style=\"text-align: right;\">\n",
       "      <th></th>\n",
       "      <th>Rating</th>\n",
       "      <th>Company Name</th>\n",
       "      <th>Job Title</th>\n",
       "      <th>Salary</th>\n",
       "      <th>Salaries Reported</th>\n",
       "      <th>Location</th>\n",
       "      <th>Employment Status</th>\n",
       "      <th>Job Roles</th>\n",
       "    </tr>\n",
       "  </thead>\n",
       "  <tbody>\n",
       "    <tr>\n",
       "      <th>0</th>\n",
       "      <td>3.8</td>\n",
       "      <td>Sasken</td>\n",
       "      <td>Android Developer</td>\n",
       "      <td>400000</td>\n",
       "      <td>3</td>\n",
       "      <td>Bangalore</td>\n",
       "      <td>Full Time</td>\n",
       "      <td>Android</td>\n",
       "    </tr>\n",
       "    <tr>\n",
       "      <th>1</th>\n",
       "      <td>4.5</td>\n",
       "      <td>Advanced Millennium Technologies</td>\n",
       "      <td>Android Developer</td>\n",
       "      <td>400000</td>\n",
       "      <td>3</td>\n",
       "      <td>Bangalore</td>\n",
       "      <td>Full Time</td>\n",
       "      <td>Android</td>\n",
       "    </tr>\n",
       "    <tr>\n",
       "      <th>2</th>\n",
       "      <td>4.0</td>\n",
       "      <td>Unacademy</td>\n",
       "      <td>Android Developer</td>\n",
       "      <td>1000000</td>\n",
       "      <td>3</td>\n",
       "      <td>Bangalore</td>\n",
       "      <td>Full Time</td>\n",
       "      <td>Android</td>\n",
       "    </tr>\n",
       "    <tr>\n",
       "      <th>3</th>\n",
       "      <td>3.8</td>\n",
       "      <td>SnapBizz Cloudtech</td>\n",
       "      <td>Android Developer</td>\n",
       "      <td>300000</td>\n",
       "      <td>3</td>\n",
       "      <td>Bangalore</td>\n",
       "      <td>Full Time</td>\n",
       "      <td>Android</td>\n",
       "    </tr>\n",
       "    <tr>\n",
       "      <th>4</th>\n",
       "      <td>4.4</td>\n",
       "      <td>Appoids Tech Solutions</td>\n",
       "      <td>Android Developer</td>\n",
       "      <td>600000</td>\n",
       "      <td>3</td>\n",
       "      <td>Bangalore</td>\n",
       "      <td>Full Time</td>\n",
       "      <td>Android</td>\n",
       "    </tr>\n",
       "  </tbody>\n",
       "</table>\n",
       "</div>"
      ],
      "text/plain": [
       "   Rating                      Company Name          Job Title   Salary  \\\n",
       "0     3.8                            Sasken  Android Developer   400000   \n",
       "1     4.5  Advanced Millennium Technologies  Android Developer   400000   \n",
       "2     4.0                         Unacademy  Android Developer  1000000   \n",
       "3     3.8                SnapBizz Cloudtech  Android Developer   300000   \n",
       "4     4.4            Appoids Tech Solutions  Android Developer   600000   \n",
       "\n",
       "   Salaries Reported   Location Employment Status Job Roles  \n",
       "0                  3  Bangalore         Full Time   Android  \n",
       "1                  3  Bangalore         Full Time   Android  \n",
       "2                  3  Bangalore         Full Time   Android  \n",
       "3                  3  Bangalore         Full Time   Android  \n",
       "4                  3  Bangalore         Full Time   Android  "
      ]
     },
     "execution_count": 4,
     "metadata": {},
     "output_type": "execute_result"
    }
   ],
   "source": [
    "df.head(5)"
   ]
  },
  {
   "cell_type": "code",
   "execution_count": 5,
   "id": "6acac399",
   "metadata": {},
   "outputs": [
    {
     "data": {
      "text/plain": [
       "(22770, 8)"
      ]
     },
     "execution_count": 5,
     "metadata": {},
     "output_type": "execute_result"
    }
   ],
   "source": [
    "df.shape"
   ]
  },
  {
   "cell_type": "code",
   "execution_count": 6,
   "id": "0931bcc7",
   "metadata": {},
   "outputs": [
    {
     "name": "stdout",
     "output_type": "stream",
     "text": [
      "<class 'pandas.core.frame.DataFrame'>\n",
      "RangeIndex: 22770 entries, 0 to 22769\n",
      "Data columns (total 8 columns):\n",
      " #   Column             Non-Null Count  Dtype  \n",
      "---  ------             --------------  -----  \n",
      " 0   Rating             22770 non-null  float64\n",
      " 1   Company Name       22770 non-null  object \n",
      " 2   Job Title          22770 non-null  object \n",
      " 3   Salary             22770 non-null  int64  \n",
      " 4   Salaries Reported  22770 non-null  int64  \n",
      " 5   Location           22770 non-null  object \n",
      " 6   Employment Status  22770 non-null  object \n",
      " 7   Job Roles          22770 non-null  object \n",
      "dtypes: float64(1), int64(2), object(5)\n",
      "memory usage: 1.4+ MB\n"
     ]
    }
   ],
   "source": [
    "df.info()"
   ]
  },
  {
   "cell_type": "code",
   "execution_count": 7,
   "id": "a2a9b9e4",
   "metadata": {},
   "outputs": [
    {
     "data": {
      "text/html": [
       "<div>\n",
       "<style scoped>\n",
       "    .dataframe tbody tr th:only-of-type {\n",
       "        vertical-align: middle;\n",
       "    }\n",
       "\n",
       "    .dataframe tbody tr th {\n",
       "        vertical-align: top;\n",
       "    }\n",
       "\n",
       "    .dataframe thead th {\n",
       "        text-align: right;\n",
       "    }\n",
       "</style>\n",
       "<table border=\"1\" class=\"dataframe\">\n",
       "  <thead>\n",
       "    <tr style=\"text-align: right;\">\n",
       "      <th></th>\n",
       "      <th>Rating</th>\n",
       "      <th>Salary</th>\n",
       "      <th>Salaries Reported</th>\n",
       "    </tr>\n",
       "  </thead>\n",
       "  <tbody>\n",
       "    <tr>\n",
       "      <th>count</th>\n",
       "      <td>22770.000000</td>\n",
       "      <td>2.277000e+04</td>\n",
       "      <td>22770.000000</td>\n",
       "    </tr>\n",
       "    <tr>\n",
       "      <th>mean</th>\n",
       "      <td>3.918213</td>\n",
       "      <td>6.953872e+05</td>\n",
       "      <td>1.855775</td>\n",
       "    </tr>\n",
       "    <tr>\n",
       "      <th>std</th>\n",
       "      <td>0.519675</td>\n",
       "      <td>8.843990e+05</td>\n",
       "      <td>6.823668</td>\n",
       "    </tr>\n",
       "    <tr>\n",
       "      <th>min</th>\n",
       "      <td>1.000000</td>\n",
       "      <td>2.112000e+03</td>\n",
       "      <td>1.000000</td>\n",
       "    </tr>\n",
       "    <tr>\n",
       "      <th>25%</th>\n",
       "      <td>3.700000</td>\n",
       "      <td>3.000000e+05</td>\n",
       "      <td>1.000000</td>\n",
       "    </tr>\n",
       "    <tr>\n",
       "      <th>50%</th>\n",
       "      <td>3.900000</td>\n",
       "      <td>5.000000e+05</td>\n",
       "      <td>1.000000</td>\n",
       "    </tr>\n",
       "    <tr>\n",
       "      <th>75%</th>\n",
       "      <td>4.200000</td>\n",
       "      <td>9.000000e+05</td>\n",
       "      <td>1.000000</td>\n",
       "    </tr>\n",
       "    <tr>\n",
       "      <th>max</th>\n",
       "      <td>5.000000</td>\n",
       "      <td>9.000000e+07</td>\n",
       "      <td>361.000000</td>\n",
       "    </tr>\n",
       "  </tbody>\n",
       "</table>\n",
       "</div>"
      ],
      "text/plain": [
       "             Rating        Salary  Salaries Reported\n",
       "count  22770.000000  2.277000e+04       22770.000000\n",
       "mean       3.918213  6.953872e+05           1.855775\n",
       "std        0.519675  8.843990e+05           6.823668\n",
       "min        1.000000  2.112000e+03           1.000000\n",
       "25%        3.700000  3.000000e+05           1.000000\n",
       "50%        3.900000  5.000000e+05           1.000000\n",
       "75%        4.200000  9.000000e+05           1.000000\n",
       "max        5.000000  9.000000e+07         361.000000"
      ]
     },
     "execution_count": 7,
     "metadata": {},
     "output_type": "execute_result"
    }
   ],
   "source": [
    "df.describe()"
   ]
  },
  {
   "cell_type": "code",
   "execution_count": 8,
   "id": "65c6b510",
   "metadata": {},
   "outputs": [
    {
     "data": {
      "text/html": [
       "<div>\n",
       "<style scoped>\n",
       "    .dataframe tbody tr th:only-of-type {\n",
       "        vertical-align: middle;\n",
       "    }\n",
       "\n",
       "    .dataframe tbody tr th {\n",
       "        vertical-align: top;\n",
       "    }\n",
       "\n",
       "    .dataframe thead th {\n",
       "        text-align: right;\n",
       "    }\n",
       "</style>\n",
       "<table border=\"1\" class=\"dataframe\">\n",
       "  <thead>\n",
       "    <tr style=\"text-align: right;\">\n",
       "      <th></th>\n",
       "      <th>Company Name</th>\n",
       "      <th>Job Title</th>\n",
       "      <th>Location</th>\n",
       "      <th>Employment Status</th>\n",
       "      <th>Job Roles</th>\n",
       "    </tr>\n",
       "  </thead>\n",
       "  <tbody>\n",
       "    <tr>\n",
       "      <th>count</th>\n",
       "      <td>22770</td>\n",
       "      <td>22770</td>\n",
       "      <td>22770</td>\n",
       "      <td>22770</td>\n",
       "      <td>22770</td>\n",
       "    </tr>\n",
       "    <tr>\n",
       "      <th>unique</th>\n",
       "      <td>11261</td>\n",
       "      <td>1080</td>\n",
       "      <td>10</td>\n",
       "      <td>4</td>\n",
       "      <td>11</td>\n",
       "    </tr>\n",
       "    <tr>\n",
       "      <th>top</th>\n",
       "      <td>Tata Consultancy Services</td>\n",
       "      <td>Software Development Engineer</td>\n",
       "      <td>Bangalore</td>\n",
       "      <td>Full Time</td>\n",
       "      <td>SDE</td>\n",
       "    </tr>\n",
       "    <tr>\n",
       "      <th>freq</th>\n",
       "      <td>271</td>\n",
       "      <td>2351</td>\n",
       "      <td>8264</td>\n",
       "      <td>20083</td>\n",
       "      <td>8183</td>\n",
       "    </tr>\n",
       "  </tbody>\n",
       "</table>\n",
       "</div>"
      ],
      "text/plain": [
       "                     Company Name                      Job Title   Location  \\\n",
       "count                       22770                          22770      22770   \n",
       "unique                      11261                           1080         10   \n",
       "top     Tata Consultancy Services  Software Development Engineer  Bangalore   \n",
       "freq                          271                           2351       8264   \n",
       "\n",
       "       Employment Status Job Roles  \n",
       "count              22770     22770  \n",
       "unique                 4        11  \n",
       "top            Full Time       SDE  \n",
       "freq               20083      8183  "
      ]
     },
     "execution_count": 8,
     "metadata": {},
     "output_type": "execute_result"
    }
   ],
   "source": [
    "df.describe(include='object')"
   ]
  },
  {
   "cell_type": "code",
   "execution_count": 9,
   "id": "c5bf9e46",
   "metadata": {},
   "outputs": [
    {
     "data": {
      "text/plain": [
       "Index(['Rating', 'Company Name', 'Job Title', 'Salary', 'Salaries Reported',\n",
       "       'Location', 'Employment Status', 'Job Roles'],\n",
       "      dtype='object')"
      ]
     },
     "execution_count": 9,
     "metadata": {},
     "output_type": "execute_result"
    }
   ],
   "source": [
    "df.columns"
   ]
  },
  {
   "cell_type": "code",
   "execution_count": 14,
   "id": "536c32e6",
   "metadata": {},
   "outputs": [
    {
     "data": {
      "text/plain": [
       "array(['Android Developer', 'Android Developer - Intern',\n",
       "       'Android Developer - Contractor', ..., 'Web Developer Contractor',\n",
       "       'Full Stack Web Developer', 'Associate Web Developer'],\n",
       "      dtype=object)"
      ]
     },
     "execution_count": 14,
     "metadata": {},
     "output_type": "execute_result"
    }
   ],
   "source": [
    "df['Job Title'].unique()"
   ]
  },
  {
   "cell_type": "code",
   "execution_count": 15,
   "id": "61b676d5",
   "metadata": {},
   "outputs": [
    {
     "data": {
      "text/plain": [
       "array(['Android', 'Backend', 'Database', 'Frontend', 'IOS', 'Java',\n",
       "       'Mobile', 'SDE', 'Python', 'Web', 'Testing'], dtype=object)"
      ]
     },
     "execution_count": 15,
     "metadata": {},
     "output_type": "execute_result"
    }
   ],
   "source": [
    "df['Job Roles'].unique()"
   ]
  },
  {
   "cell_type": "code",
   "execution_count": 17,
   "id": "08677f0a",
   "metadata": {},
   "outputs": [
    {
     "data": {
      "text/plain": [
       "Rating               0\n",
       "Company Name         0\n",
       "Job Title            0\n",
       "Salary               0\n",
       "Salaries Reported    0\n",
       "Location             0\n",
       "Employment Status    0\n",
       "Job Roles            0\n",
       "dtype: int64"
      ]
     },
     "execution_count": 17,
     "metadata": {},
     "output_type": "execute_result"
    }
   ],
   "source": [
    "#Finding out the null values and Filling those values.\n",
    "df.isna().sum()"
   ]
  },
  {
   "cell_type": "markdown",
   "id": "fce36725",
   "metadata": {},
   "source": [
    "### Since the data has cleaned now we can perform Analysis based on data."
   ]
  },
  {
   "cell_type": "markdown",
   "id": "88b071d0",
   "metadata": {},
   "source": [
    "## Univariate analysis\n",
    "explores each variable in a data set, separately. It looks at the range of values, as well as the central tendency of the values. It describes the pattern of response to the variable. It describes each variable on its own. Descriptive statistics describe and summarize data."
   ]
  },
  {
   "cell_type": "code",
   "execution_count": 20,
   "id": "0a438c84",
   "metadata": {},
   "outputs": [
    {
     "data": {
      "text/plain": [
       "4.00    2895\n",
       "3.90    2473\n",
       "3.80    2471\n",
       "4.10    2111\n",
       "3.70    1479\n",
       "4.20    1323\n",
       "4.30    1294\n",
       "3.60    1009\n",
       "4.40     883\n",
       "4.50     861\n",
       "3.50     801\n",
       "3.30     727\n",
       "5.00     672\n",
       "3.40     574\n",
       "4.60     464\n",
       "4.70     401\n",
       "3.00     333\n",
       "3.10     329\n",
       "3.20     316\n",
       "4.80     283\n",
       "2.90     177\n",
       "4.90     157\n",
       "2.80     129\n",
       "2.70      98\n",
       "2.60      77\n",
       "1.00      67\n",
       "2.50      66\n",
       "2.00      54\n",
       "2.40      53\n",
       "2.30      43\n",
       "2.20      43\n",
       "3.95      27\n",
       "2.10      15\n",
       "1.90      15\n",
       "1.80      12\n",
       "3.85      11\n",
       "1.50       8\n",
       "1.60       8\n",
       "1.40       5\n",
       "1.70       4\n",
       "1.30       2\n",
       "Name: Rating, dtype: int64"
      ]
     },
     "execution_count": 20,
     "metadata": {},
     "output_type": "execute_result"
    }
   ],
   "source": [
    "df['Rating'].value_counts()"
   ]
  },
  {
   "cell_type": "code",
   "execution_count": 22,
   "id": "1a81e0a2",
   "metadata": {},
   "outputs": [],
   "source": [
    "def handlerating(value):\n",
    "    value = round(value,1)\n",
    "    return value\n",
    "df['Rating'] = df['Rating'].apply(handlerating)"
   ]
  },
  {
   "cell_type": "code",
   "execution_count": 25,
   "id": "96033420",
   "metadata": {},
   "outputs": [
    {
     "data": {
      "image/png": "[encoded data removed]",
      "text/plain": [
       "<Figure size 1440x720 with 1 Axes>"
      ]
     },
     "metadata": {
      "needs_background": "light"
     },
     "output_type": "display_data"
    }
   ],
   "source": [
    "#Data Visualization\n",
    "plt.figure(figsize=(20, 10))\n",
    "plt.title('Ratings')\n",
    "sns.countplot(df['Rating']);"
   ]
  },
  {
   "cell_type": "markdown",
   "id": "62f419c4",
   "metadata": {},
   "source": [
    "### Top 10 company has maximum number of employees"
   ]
  },
  {
   "cell_type": "code",
   "execution_count": 30,
   "id": "ebf74ea9",
   "metadata": {},
   "outputs": [
    {
     "data": {
      "text/plain": [
       "Tata Consultancy Services         271\n",
       "Amazon                            184\n",
       "Infosys                           169\n",
       "Accenture                         150\n",
       "Cognizant Technology Solutions    144\n",
       "Wipro                             122\n",
       "IBM                               122\n",
       "HCL Technologies                  102\n",
       "Capgemini                         101\n",
       "Fresher                           101\n",
       "Name: Company Name, dtype: int64"
      ]
     },
     "execution_count": 30,
     "metadata": {},
     "output_type": "execute_result"
    }
   ],
   "source": [
    "top10 = df['Company Name'].value_counts()[:10]\n",
    "top10"
   ]
  },
  {
   "cell_type": "code",
   "execution_count": 35,
   "id": "a99d0ee9",
   "metadata": {},
   "outputs": [
    {
     "data": {
      "image/png": "[encoded data removed]",
      "text/plain": [
       "<Figure size 1080x720 with 1 Axes>"
      ]
     },
     "metadata": {
      "needs_background": "light"
     },
     "output_type": "display_data"
    }
   ],
   "source": [
    "#Data Visualization\n",
    "plt.figure(figsize=(15, 10))\n",
    "plt.xticks(rotation=90)\n",
    "plt.title('Top 10 Company Max Employees')\n",
    "plt.xlabel('Company Name')\n",
    "plt.ylabel('Employees Size')\n",
    "plt.bar(top10.keys(), top10);"
   ]
  },
  {
   "cell_type": "markdown",
   "id": "b16c8663",
   "metadata": {},
   "source": [
    "### Top 20 Jobs"
   ]
  },
  {
   "cell_type": "code",
   "execution_count": 37,
   "id": "63f5c4c2",
   "metadata": {},
   "outputs": [
    {
     "data": {
      "text/plain": [
       "Software Development Engineer                   2351\n",
       "Android Developer                               2029\n",
       "Software Development Engineer (SDE)             1614\n",
       "Front End Developer                             1412\n",
       "Test Engineer                                   1314\n",
       "Web Developer                                    853\n",
       "Software Development Engineer - Intern           771\n",
       "Software Development Engineer In Test (SDET)     766\n",
       "Backend Developer                                534\n",
       "Python Developer                                 485\n",
       "IOS Developer                                    484\n",
       "Java Developer                                   387\n",
       "Senior IOS Developer                             351\n",
       "Senior Software Development Engineer             350\n",
       "Junior Java Developer                            330\n",
       "Senior Java Developer                            318\n",
       "Software Development Engineer I                  312\n",
       "Software Development Engineer (SDE) - Intern     297\n",
       "Senior Android Developer                         292\n",
       "Software Development Engineer II                 204\n",
       "Name: Job Title, dtype: int64"
      ]
     },
     "execution_count": 37,
     "metadata": {},
     "output_type": "execute_result"
    }
   ],
   "source": [
    "top20_jobs = df['Job Title'].value_counts()[:20]\n",
    "top20_jobs"
   ]
  },
  {
   "cell_type": "code",
   "execution_count": 38,
   "id": "f799d9f2",
   "metadata": {},
   "outputs": [
    {
     "data": {
      "image/png": "[encoded data removed]",
      "text/plain": [
       "<Figure size 1080x720 with 1 Axes>"
      ]
     },
     "metadata": {
      "needs_background": "light"
     },
     "output_type": "display_data"
    }
   ],
   "source": [
    "#Data visualisation\n",
    "plt.figure(figsize=(15, 10))\n",
    "plt.xticks(rotation=90)\n",
    "plt.title('Top 20 Jobs')\n",
    "plt.xlabel('Job Name')\n",
    "plt.ylabel('No. of Jobs')\n",
    "plt.bar(top20_jobs.keys(), top20_jobs);"
   ]
  },
  {
   "cell_type": "markdown",
   "id": "2aead103",
   "metadata": {},
   "source": [
    "### Employment Status"
   ]
  },
  {
   "cell_type": "code",
   "execution_count": 39,
   "id": "fd8520ae",
   "metadata": {},
   "outputs": [
    {
     "data": {
      "text/plain": [
       "Full Time     20083\n",
       "Intern         2106\n",
       "Contractor      548\n",
       "Trainee          33\n",
       "Name: Employment Status, dtype: int64"
      ]
     },
     "execution_count": 39,
     "metadata": {},
     "output_type": "execute_result"
    }
   ],
   "source": [
    "emp_status = df['Employment Status'].value_counts()\n",
    "emp_status"
   ]
  },
  {
   "cell_type": "code",
   "execution_count": 49,
   "id": "25ff7ab5",
   "metadata": {},
   "outputs": [
    {
     "data": {
      "image/png": "[encoded data removed]",
      "text/plain": [
       "<Figure size 1080x720 with 1 Axes>"
      ]
     },
     "metadata": {},
     "output_type": "display_data"
    }
   ],
   "source": [
    "plt.figure(figsize=(15, 10))\n",
    "plt.pie(emp_status, labels=emp_status.keys(), autopct='%.1f%%');\n"
   ]
  },
  {
   "cell_type": "code",
   "execution_count": 51,
   "id": "b26e8807",
   "metadata": {},
   "outputs": [
    {
     "data": {
      "text/plain": [
       "SDE         8183\n",
       "Android     2945\n",
       "Frontend    2163\n",
       "Java        1858\n",
       "Testing     1740\n",
       "IOS         1631\n",
       "Backend     1194\n",
       "Web          999\n",
       "Python       947\n",
       "Database     865\n",
       "Mobile       245\n",
       "Name: Job Roles, dtype: int64"
      ]
     },
     "execution_count": 51,
     "metadata": {},
     "output_type": "execute_result"
    }
   ],
   "source": [
    "#Job Roles\n",
    "df['Job Roles'].value_counts()"
   ]
  },
  {
   "cell_type": "code",
   "execution_count": 52,
   "id": "396d38c0",
   "metadata": {},
   "outputs": [
    {
     "data": {
      "image/png": "[encoded data removed]",
      "text/plain": [
       "<Figure size 1080x720 with 1 Axes>"
      ]
     },
     "metadata": {
      "needs_background": "light"
     },
     "output_type": "display_data"
    }
   ],
   "source": [
    "plt.figure(figsize=(15, 10))\n",
    "plt.title('Job Roles')\n",
    "sns.countplot('Job Roles', data=df);"
   ]
  },
  {
   "cell_type": "markdown",
   "id": "cacf3304",
   "metadata": {},
   "source": [
    "## Bivariate analysis \n",
    "stated to be an analysis of any concurrent relation between two variables or attributes. This study explores the relationship of two variables as well as the depth of this relationship to figure out if there are any discrepancies between two variables and any causes of this difference.\n",
    "\n",
    "### Average Salary Distribution for Job Roles"
   ]
  },
  {
   "cell_type": "code",
   "execution_count": 54,
   "id": "245f7a48",
   "metadata": {},
   "outputs": [
    {
     "data": {
      "text/plain": [
       "Job Roles\n",
       "Android     565911.0\n",
       "Backend     748518.0\n",
       "Database    958584.0\n",
       "Frontend    610099.0\n",
       "IOS         695254.0\n",
       "Java        564710.0\n",
       "Mobile      882283.0\n",
       "Python      486023.0\n",
       "SDE         853795.0\n",
       "Testing     496298.0\n",
       "Web         415452.0\n",
       "Name: Salary, dtype: float64"
      ]
     },
     "execution_count": 54,
     "metadata": {},
     "output_type": "execute_result"
    }
   ],
   "source": [
    "#The mean() function calculates the average salary.\n",
    "round(df.groupby('Job Roles')['Salary'].mean(),0)"
   ]
  },
  {
   "cell_type": "code",
   "execution_count": 56,
   "id": "49a84de4",
   "metadata": {},
   "outputs": [
    {
     "data": {
      "image/png": "[encoded data removed]",
      "text/plain": [
       "<Figure size 1080x360 with 1 Axes>"
      ]
     },
     "metadata": {
      "needs_background": "light"
     },
     "output_type": "display_data"
    }
   ],
   "source": [
    "plt.figure(figsize=(15, 5))\n",
    "plt.title('Average Salary Distribution for Job Roles')\n",
    "sns.barplot(x='Job Roles', y='Salary', data= df);"
   ]
  },
  {
   "cell_type": "code",
   "execution_count": 62,
   "id": "88b4b51c",
   "metadata": {},
   "outputs": [
    {
     "data": {
      "text/plain": [
       "Job Roles  Employment Status\n",
       "Android    Full Time            2669\n",
       "           Intern                225\n",
       "           Contractor             42\n",
       "           Trainee                 9\n",
       "Backend    Full Time             993\n",
       "           Intern                193\n",
       "           Contractor              8\n",
       "Database   Full Time             803\n",
       "           Contractor             56\n",
       "           Intern                  6\n",
       "Frontend   Full Time            1938\n",
       "           Intern                192\n",
       "           Contractor             33\n",
       "IOS        Full Time            1561\n",
       "           Intern                 47\n",
       "           Contractor             22\n",
       "           Trainee                 1\n",
       "Java       Full Time            1740\n",
       "           Contractor             60\n",
       "           Intern                 51\n",
       "           Trainee                 7\n",
       "Mobile     Full Time             229\n",
       "           Intern                 11\n",
       "           Contractor              4\n",
       "           Trainee                 1\n",
       "Python     Full Time             845\n",
       "           Intern                 69\n",
       "           Contractor             27\n",
       "           Trainee                 6\n",
       "SDE        Full Time            6875\n",
       "           Intern               1166\n",
       "           Contractor            133\n",
       "           Trainee                 9\n",
       "Testing    Full Time            1574\n",
       "           Contractor            136\n",
       "           Intern                 30\n",
       "Web        Full Time             856\n",
       "           Intern                116\n",
       "           Contractor             27\n",
       "Name: Employment Status, dtype: int64"
      ]
     },
     "execution_count": 62,
     "metadata": {},
     "output_type": "execute_result"
    }
   ],
   "source": [
    "df.groupby('Job Roles')['Employment Status'].value_counts()"
   ]
  },
  {
   "cell_type": "code",
   "execution_count": 61,
   "id": "8e104057",
   "metadata": {},
   "outputs": [
    {
     "data": {
      "image/png": "[encoded data removed]",
      "text/plain": [
       "<Figure size 1440x792 with 1 Axes>"
      ]
     },
     "metadata": {
      "needs_background": "light"
     },
     "output_type": "display_data"
    }
   ],
   "source": [
    "plt.figure(figsize=(20,11))\n",
    "sns.countplot('Job Roles',hue='Employment Status',data=df);"
   ]
  },
  {
   "cell_type": "markdown",
   "id": "ab784d54",
   "metadata": {},
   "source": [
    "**From the above graph, Peoples are more interested in getting Full time job as compared to intern , contrater and trainee.**"
   ]
  },
  {
   "cell_type": "markdown",
   "id": "2f060490",
   "metadata": {},
   "source": [
    "## Multivariate Analysis\n",
    "defined as a process of involving multiple dependent variables resulting in one outcome."
   ]
  },
  {
   "cell_type": "code",
   "execution_count": 63,
   "id": "effae811",
   "metadata": {},
   "outputs": [
    {
     "data": {
      "image/png": "[encoded data removed]",
      "text/plain": [
       "<Figure size 1440x720 with 1 Axes>"
      ]
     },
     "metadata": {
      "needs_background": "light"
     },
     "output_type": "display_data"
    }
   ],
   "source": [
    "plt.figure(figsize=(20,10))\n",
    "sns.barplot(x='Job Roles', y='Salary', hue='Employment Status', data=df);"
   ]
  },
  {
   "cell_type": "markdown",
   "id": "b7b178aa",
   "metadata": {},
   "source": [
    "### Top 40 Company Highest Paying Salary"
   ]
  },
  {
   "cell_type": "code",
   "execution_count": 70,
   "id": "9efedf9e",
   "metadata": {},
   "outputs": [
    {
     "data": {
      "image/png": "[encoded data removed]",
      "text/plain": [
       "<Figure size 1440x432 with 1 Axes>"
      ]
     },
     "metadata": {
      "needs_background": "light"
     },
     "output_type": "display_data"
    }
   ],
   "source": [
    "plt.figure(figsize=(20, 6))\n",
    "plt.xticks(rotation=90)\n",
    "plt.ticklabel_format(style='plain')\n",
    "df.sort_values(\"Salary\", axis = 0, ascending= False, inplace= True)\n",
    "sns.barplot(x= df['Company Name'][1:41], y = df['Salary'][1:41], palette= \"tab10\");"
   ]
  },
  {
   "cell_type": "markdown",
   "id": "1cac7b25",
   "metadata": {},
   "source": [
    "### Top 20 Companies with 5.0 Rating"
   ]
  },
  {
   "cell_type": "code",
   "execution_count": 73,
   "id": "0a3bfe8e",
   "metadata": {},
   "outputs": [
    {
     "data": {
      "text/html": [
       "<div>\n",
       "<style scoped>\n",
       "    .dataframe tbody tr th:only-of-type {\n",
       "        vertical-align: middle;\n",
       "    }\n",
       "\n",
       "    .dataframe tbody tr th {\n",
       "        vertical-align: top;\n",
       "    }\n",
       "\n",
       "    .dataframe thead th {\n",
       "        text-align: right;\n",
       "    }\n",
       "</style>\n",
       "<table border=\"1\" class=\"dataframe\">\n",
       "  <thead>\n",
       "    <tr style=\"text-align: right;\">\n",
       "      <th></th>\n",
       "      <th>Company Name</th>\n",
       "      <th>Rating</th>\n",
       "    </tr>\n",
       "  </thead>\n",
       "  <tbody>\n",
       "    <tr>\n",
       "      <th>7313</th>\n",
       "      <td>OmegaOn</td>\n",
       "      <td>5.0</td>\n",
       "    </tr>\n",
       "    <tr>\n",
       "      <th>6818</th>\n",
       "      <td>Web Mingo It Solutions</td>\n",
       "      <td>5.0</td>\n",
       "    </tr>\n",
       "    <tr>\n",
       "      <th>10137</th>\n",
       "      <td>Ramcides</td>\n",
       "      <td>5.0</td>\n",
       "    </tr>\n",
       "    <tr>\n",
       "      <th>20163</th>\n",
       "      <td>Zlapch TechStudios</td>\n",
       "      <td>5.0</td>\n",
       "    </tr>\n",
       "    <tr>\n",
       "      <th>705</th>\n",
       "      <td>Mindzolo Soft Solution</td>\n",
       "      <td>5.0</td>\n",
       "    </tr>\n",
       "    <tr>\n",
       "      <th>22489</th>\n",
       "      <td>BizInventive</td>\n",
       "      <td>5.0</td>\n",
       "    </tr>\n",
       "    <tr>\n",
       "      <th>7302</th>\n",
       "      <td>Entappia</td>\n",
       "      <td>5.0</td>\n",
       "    </tr>\n",
       "    <tr>\n",
       "      <th>9882</th>\n",
       "      <td>HOJ Global Solution</td>\n",
       "      <td>5.0</td>\n",
       "    </tr>\n",
       "    <tr>\n",
       "      <th>5971</th>\n",
       "      <td>Mediwave Digital</td>\n",
       "      <td>5.0</td>\n",
       "    </tr>\n",
       "    <tr>\n",
       "      <th>21911</th>\n",
       "      <td>Holagraph</td>\n",
       "      <td>5.0</td>\n",
       "    </tr>\n",
       "    <tr>\n",
       "      <th>17474</th>\n",
       "      <td>FlipItNews</td>\n",
       "      <td>5.0</td>\n",
       "    </tr>\n",
       "    <tr>\n",
       "      <th>10839</th>\n",
       "      <td>Mobile Technical Service</td>\n",
       "      <td>5.0</td>\n",
       "    </tr>\n",
       "    <tr>\n",
       "      <th>6120</th>\n",
       "      <td>Jorim Technology Solutions</td>\n",
       "      <td>5.0</td>\n",
       "    </tr>\n",
       "    <tr>\n",
       "      <th>18574</th>\n",
       "      <td>Codebugged AI</td>\n",
       "      <td>5.0</td>\n",
       "    </tr>\n",
       "    <tr>\n",
       "      <th>21559</th>\n",
       "      <td>Kolene</td>\n",
       "      <td>5.0</td>\n",
       "    </tr>\n",
       "    <tr>\n",
       "      <th>1403</th>\n",
       "      <td>Plato Digieducation</td>\n",
       "      <td>5.0</td>\n",
       "    </tr>\n",
       "    <tr>\n",
       "      <th>22023</th>\n",
       "      <td>Palmate Solutions</td>\n",
       "      <td>5.0</td>\n",
       "    </tr>\n",
       "    <tr>\n",
       "      <th>2305</th>\n",
       "      <td>Appxart</td>\n",
       "      <td>5.0</td>\n",
       "    </tr>\n",
       "    <tr>\n",
       "      <th>795</th>\n",
       "      <td>Uttara InfoSolutions</td>\n",
       "      <td>5.0</td>\n",
       "    </tr>\n",
       "    <tr>\n",
       "      <th>3175</th>\n",
       "      <td>Truexam</td>\n",
       "      <td>5.0</td>\n",
       "    </tr>\n",
       "  </tbody>\n",
       "</table>\n",
       "</div>"
      ],
      "text/plain": [
       "                     Company Name  Rating\n",
       "7313                      OmegaOn     5.0\n",
       "6818       Web Mingo It Solutions     5.0\n",
       "10137                    Ramcides     5.0\n",
       "20163          Zlapch TechStudios     5.0\n",
       "705        Mindzolo Soft Solution     5.0\n",
       "22489                BizInventive     5.0\n",
       "7302                     Entappia     5.0\n",
       "9882          HOJ Global Solution     5.0\n",
       "5971             Mediwave Digital     5.0\n",
       "21911                   Holagraph     5.0\n",
       "17474                  FlipItNews     5.0\n",
       "10839    Mobile Technical Service     5.0\n",
       "6120   Jorim Technology Solutions     5.0\n",
       "18574               Codebugged AI     5.0\n",
       "21559                      Kolene     5.0\n",
       "1403          Plato Digieducation     5.0\n",
       "22023           Palmate Solutions     5.0\n",
       "2305                      Appxart     5.0\n",
       "795          Uttara InfoSolutions     5.0\n",
       "3175                      Truexam     5.0"
      ]
     },
     "execution_count": 73,
     "metadata": {},
     "output_type": "execute_result"
    }
   ],
   "source": [
    "df[['Company Name','Rating']].sort_values(by='Rating', ascending= False).head(20)"
   ]
  },
  {
   "cell_type": "markdown",
   "id": "d2932d3a",
   "metadata": {},
   "source": [
    "## Top 10 Highest Salary Jobs"
   ]
  },
  {
   "cell_type": "code",
   "execution_count": 74,
   "id": "aaafdbff",
   "metadata": {},
   "outputs": [
    {
     "data": {
      "text/html": [
       "<div>\n",
       "<style scoped>\n",
       "    .dataframe tbody tr th:only-of-type {\n",
       "        vertical-align: middle;\n",
       "    }\n",
       "\n",
       "    .dataframe tbody tr th {\n",
       "        vertical-align: top;\n",
       "    }\n",
       "\n",
       "    .dataframe thead th {\n",
       "        text-align: right;\n",
       "    }\n",
       "</style>\n",
       "<table border=\"1\" class=\"dataframe\">\n",
       "  <thead>\n",
       "    <tr style=\"text-align: right;\">\n",
       "      <th></th>\n",
       "      <th>Rating</th>\n",
       "      <th>Company Name</th>\n",
       "      <th>Job Title</th>\n",
       "      <th>Salary</th>\n",
       "      <th>Salaries Reported</th>\n",
       "      <th>Location</th>\n",
       "      <th>Employment Status</th>\n",
       "      <th>Job Roles</th>\n",
       "    </tr>\n",
       "  </thead>\n",
       "  <tbody>\n",
       "    <tr>\n",
       "      <th>18635</th>\n",
       "      <td>3.6</td>\n",
       "      <td>Thapar University</td>\n",
       "      <td>Software Development Engineer (SDE)</td>\n",
       "      <td>90000000</td>\n",
       "      <td>1</td>\n",
       "      <td>New Delhi</td>\n",
       "      <td>Full Time</td>\n",
       "      <td>SDE</td>\n",
       "    </tr>\n",
       "    <tr>\n",
       "      <th>9260</th>\n",
       "      <td>3.6</td>\n",
       "      <td>OASYS Cybernetics</td>\n",
       "      <td>Senior Java Developer</td>\n",
       "      <td>10000000</td>\n",
       "      <td>1</td>\n",
       "      <td>Chennai</td>\n",
       "      <td>Full Time</td>\n",
       "      <td>Java</td>\n",
       "    </tr>\n",
       "    <tr>\n",
       "      <th>4471</th>\n",
       "      <td>3.8</td>\n",
       "      <td>Concentrix</td>\n",
       "      <td>Oracle Database Administrator</td>\n",
       "      <td>10000000</td>\n",
       "      <td>1</td>\n",
       "      <td>Bangalore</td>\n",
       "      <td>Full Time</td>\n",
       "      <td>Database</td>\n",
       "    </tr>\n",
       "    <tr>\n",
       "      <th>7121</th>\n",
       "      <td>3.5</td>\n",
       "      <td>Koru UX Design</td>\n",
       "      <td>Senior Front End Developer</td>\n",
       "      <td>10000000</td>\n",
       "      <td>1</td>\n",
       "      <td>Pune</td>\n",
       "      <td>Full Time</td>\n",
       "      <td>Frontend</td>\n",
       "    </tr>\n",
       "    <tr>\n",
       "      <th>5819</th>\n",
       "      <td>3.7</td>\n",
       "      <td>Nityo Infotech</td>\n",
       "      <td>Lead UI Designer, Magento Front-end Developer</td>\n",
       "      <td>9900000</td>\n",
       "      <td>1</td>\n",
       "      <td>Bangalore</td>\n",
       "      <td>Full Time</td>\n",
       "      <td>Frontend</td>\n",
       "    </tr>\n",
       "    <tr>\n",
       "      <th>16062</th>\n",
       "      <td>3.8</td>\n",
       "      <td>Amazon</td>\n",
       "      <td>Software Development Engineer (SDE)</td>\n",
       "      <td>9850000</td>\n",
       "      <td>1</td>\n",
       "      <td>Kolkata</td>\n",
       "      <td>Full Time</td>\n",
       "      <td>SDE</td>\n",
       "    </tr>\n",
       "    <tr>\n",
       "      <th>18654</th>\n",
       "      <td>4.3</td>\n",
       "      <td>Digital Raju</td>\n",
       "      <td>Software Development Engineer (SDE)</td>\n",
       "      <td>9800000</td>\n",
       "      <td>1</td>\n",
       "      <td>New Delhi</td>\n",
       "      <td>Full Time</td>\n",
       "      <td>SDE</td>\n",
       "    </tr>\n",
       "    <tr>\n",
       "      <th>16619</th>\n",
       "      <td>4.2</td>\n",
       "      <td>FFF Enterprises</td>\n",
       "      <td>Non Software Development Engineer</td>\n",
       "      <td>9800000</td>\n",
       "      <td>1</td>\n",
       "      <td>Mumbai</td>\n",
       "      <td>Full Time</td>\n",
       "      <td>SDE</td>\n",
       "    </tr>\n",
       "    <tr>\n",
       "      <th>15568</th>\n",
       "      <td>5.0</td>\n",
       "      <td>Gaana Lyrics Point.com</td>\n",
       "      <td>Software Development Engineer (SDE) II</td>\n",
       "      <td>9700000</td>\n",
       "      <td>1</td>\n",
       "      <td>Hyderabad</td>\n",
       "      <td>Full Time</td>\n",
       "      <td>SDE</td>\n",
       "    </tr>\n",
       "    <tr>\n",
       "      <th>10832</th>\n",
       "      <td>4.6</td>\n",
       "      <td>GGH Heavy Industries</td>\n",
       "      <td>Best Buy Mobile Sales Associate</td>\n",
       "      <td>9600000</td>\n",
       "      <td>1</td>\n",
       "      <td>Bangalore</td>\n",
       "      <td>Full Time</td>\n",
       "      <td>Mobile</td>\n",
       "    </tr>\n",
       "  </tbody>\n",
       "</table>\n",
       "</div>"
      ],
      "text/plain": [
       "       Rating            Company Name  \\\n",
       "18635     3.6       Thapar University   \n",
       "9260      3.6       OASYS Cybernetics   \n",
       "4471      3.8              Concentrix   \n",
       "7121      3.5          Koru UX Design   \n",
       "5819      3.7          Nityo Infotech   \n",
       "16062     3.8                  Amazon   \n",
       "18654     4.3            Digital Raju   \n",
       "16619     4.2         FFF Enterprises   \n",
       "15568     5.0  Gaana Lyrics Point.com   \n",
       "10832     4.6    GGH Heavy Industries   \n",
       "\n",
       "                                           Job Title    Salary  \\\n",
       "18635            Software Development Engineer (SDE)  90000000   \n",
       "9260                           Senior Java Developer  10000000   \n",
       "4471                   Oracle Database Administrator  10000000   \n",
       "7121                      Senior Front End Developer  10000000   \n",
       "5819   Lead UI Designer, Magento Front-end Developer   9900000   \n",
       "16062            Software Development Engineer (SDE)   9850000   \n",
       "18654            Software Development Engineer (SDE)   9800000   \n",
       "16619              Non Software Development Engineer   9800000   \n",
       "15568         Software Development Engineer (SDE) II   9700000   \n",
       "10832                Best Buy Mobile Sales Associate   9600000   \n",
       "\n",
       "       Salaries Reported   Location Employment Status Job Roles  \n",
       "18635                  1  New Delhi         Full Time       SDE  \n",
       "9260                   1    Chennai         Full Time      Java  \n",
       "4471                   1  Bangalore         Full Time  Database  \n",
       "7121                   1       Pune         Full Time  Frontend  \n",
       "5819                   1  Bangalore         Full Time  Frontend  \n",
       "16062                  1    Kolkata         Full Time       SDE  \n",
       "18654                  1  New Delhi         Full Time       SDE  \n",
       "16619                  1     Mumbai         Full Time       SDE  \n",
       "15568                  1  Hyderabad         Full Time       SDE  \n",
       "10832                  1  Bangalore         Full Time    Mobile  "
      ]
     },
     "execution_count": 74,
     "metadata": {},
     "output_type": "execute_result"
    }
   ],
   "source": [
    "df.nlargest(10,['Salary'])"
   ]
  },
  {
   "cell_type": "markdown",
   "id": "b21084b9",
   "metadata": {},
   "source": [
    "## Top 10 Lowest Salary Jobs"
   ]
  },
  {
   "cell_type": "code",
   "execution_count": 75,
   "id": "980b5db3",
   "metadata": {},
   "outputs": [
    {
     "data": {
      "text/html": [
       "<div>\n",
       "<style scoped>\n",
       "    .dataframe tbody tr th:only-of-type {\n",
       "        vertical-align: middle;\n",
       "    }\n",
       "\n",
       "    .dataframe tbody tr th {\n",
       "        vertical-align: top;\n",
       "    }\n",
       "\n",
       "    .dataframe thead th {\n",
       "        text-align: right;\n",
       "    }\n",
       "</style>\n",
       "<table border=\"1\" class=\"dataframe\">\n",
       "  <thead>\n",
       "    <tr style=\"text-align: right;\">\n",
       "      <th></th>\n",
       "      <th>Rating</th>\n",
       "      <th>Company Name</th>\n",
       "      <th>Job Title</th>\n",
       "      <th>Salary</th>\n",
       "      <th>Salaries Reported</th>\n",
       "      <th>Location</th>\n",
       "      <th>Employment Status</th>\n",
       "      <th>Job Roles</th>\n",
       "    </tr>\n",
       "  </thead>\n",
       "  <tbody>\n",
       "    <tr>\n",
       "      <th>22563</th>\n",
       "      <td>2.6</td>\n",
       "      <td>Keeves Technologies</td>\n",
       "      <td>Web Developer - Intern</td>\n",
       "      <td>2112</td>\n",
       "      <td>1</td>\n",
       "      <td>Bangalore</td>\n",
       "      <td>Intern</td>\n",
       "      <td>Web</td>\n",
       "    </tr>\n",
       "    <tr>\n",
       "      <th>9937</th>\n",
       "      <td>3.7</td>\n",
       "      <td>Virtusa</td>\n",
       "      <td>Junior Java Developer</td>\n",
       "      <td>8448</td>\n",
       "      <td>5</td>\n",
       "      <td>Hyderabad</td>\n",
       "      <td>Full Time</td>\n",
       "      <td>Java</td>\n",
       "    </tr>\n",
       "    <tr>\n",
       "      <th>5463</th>\n",
       "      <td>4.1</td>\n",
       "      <td>Scholify</td>\n",
       "      <td>Front End Developer - Intern</td>\n",
       "      <td>12000</td>\n",
       "      <td>1</td>\n",
       "      <td>Bangalore</td>\n",
       "      <td>Intern</td>\n",
       "      <td>Frontend</td>\n",
       "    </tr>\n",
       "    <tr>\n",
       "      <th>14659</th>\n",
       "      <td>4.4</td>\n",
       "      <td>Microsoft</td>\n",
       "      <td>Software Development Engineer</td>\n",
       "      <td>12000</td>\n",
       "      <td>1</td>\n",
       "      <td>Hyderabad</td>\n",
       "      <td>Full Time</td>\n",
       "      <td>SDE</td>\n",
       "    </tr>\n",
       "    <tr>\n",
       "      <th>5548</th>\n",
       "      <td>4.0</td>\n",
       "      <td>Nasya Software Technologies</td>\n",
       "      <td>Front End Developer - Intern</td>\n",
       "      <td>12000</td>\n",
       "      <td>1</td>\n",
       "      <td>Bangalore</td>\n",
       "      <td>Intern</td>\n",
       "      <td>Frontend</td>\n",
       "    </tr>\n",
       "    <tr>\n",
       "      <th>7514</th>\n",
       "      <td>3.9</td>\n",
       "      <td>Al-Jazirah</td>\n",
       "      <td>Senior IOS Developer</td>\n",
       "      <td>12000</td>\n",
       "      <td>1</td>\n",
       "      <td>Bangalore</td>\n",
       "      <td>Full Time</td>\n",
       "      <td>IOS</td>\n",
       "    </tr>\n",
       "    <tr>\n",
       "      <th>22028</th>\n",
       "      <td>3.9</td>\n",
       "      <td>Yes Bank</td>\n",
       "      <td>Web Developer</td>\n",
       "      <td>12000</td>\n",
       "      <td>1</td>\n",
       "      <td>Bangalore</td>\n",
       "      <td>Full Time</td>\n",
       "      <td>Web</td>\n",
       "    </tr>\n",
       "    <tr>\n",
       "      <th>2472</th>\n",
       "      <td>3.5</td>\n",
       "      <td>Acmatics Technologies</td>\n",
       "      <td>Android Developer</td>\n",
       "      <td>12000</td>\n",
       "      <td>1</td>\n",
       "      <td>New Delhi</td>\n",
       "      <td>Full Time</td>\n",
       "      <td>Android</td>\n",
       "    </tr>\n",
       "    <tr>\n",
       "      <th>18429</th>\n",
       "      <td>4.0</td>\n",
       "      <td>....</td>\n",
       "      <td>Software Development Engineer (SDE)</td>\n",
       "      <td>12000</td>\n",
       "      <td>1</td>\n",
       "      <td>New Delhi</td>\n",
       "      <td>Full Time</td>\n",
       "      <td>SDE</td>\n",
       "    </tr>\n",
       "    <tr>\n",
       "      <th>16838</th>\n",
       "      <td>4.4</td>\n",
       "      <td>Excel Engineering Services</td>\n",
       "      <td>Senior Software Development Engineer</td>\n",
       "      <td>12000</td>\n",
       "      <td>1</td>\n",
       "      <td>Mumbai</td>\n",
       "      <td>Full Time</td>\n",
       "      <td>SDE</td>\n",
       "    </tr>\n",
       "  </tbody>\n",
       "</table>\n",
       "</div>"
      ],
      "text/plain": [
       "       Rating                 Company Name  \\\n",
       "22563     2.6          Keeves Technologies   \n",
       "9937      3.7                      Virtusa   \n",
       "5463      4.1                     Scholify   \n",
       "14659     4.4                    Microsoft   \n",
       "5548      4.0  Nasya Software Technologies   \n",
       "7514      3.9                   Al-Jazirah   \n",
       "22028     3.9                     Yes Bank   \n",
       "2472      3.5        Acmatics Technologies   \n",
       "18429     4.0                         ....   \n",
       "16838     4.4   Excel Engineering Services   \n",
       "\n",
       "                                  Job Title  Salary  Salaries Reported  \\\n",
       "22563                Web Developer - Intern    2112                  1   \n",
       "9937                  Junior Java Developer    8448                  5   \n",
       "5463           Front End Developer - Intern   12000                  1   \n",
       "14659         Software Development Engineer   12000                  1   \n",
       "5548           Front End Developer - Intern   12000                  1   \n",
       "7514                   Senior IOS Developer   12000                  1   \n",
       "22028                         Web Developer   12000                  1   \n",
       "2472                      Android Developer   12000                  1   \n",
       "18429   Software Development Engineer (SDE)   12000                  1   \n",
       "16838  Senior Software Development Engineer   12000                  1   \n",
       "\n",
       "        Location Employment Status Job Roles  \n",
       "22563  Bangalore            Intern       Web  \n",
       "9937   Hyderabad         Full Time      Java  \n",
       "5463   Bangalore            Intern  Frontend  \n",
       "14659  Hyderabad         Full Time       SDE  \n",
       "5548   Bangalore            Intern  Frontend  \n",
       "7514   Bangalore         Full Time       IOS  \n",
       "22028  Bangalore         Full Time       Web  \n",
       "2472   New Delhi         Full Time   Android  \n",
       "18429  New Delhi         Full Time       SDE  \n",
       "16838     Mumbai         Full Time       SDE  "
      ]
     },
     "execution_count": 75,
     "metadata": {},
     "output_type": "execute_result"
    }
   ],
   "source": [
    "df.nsmallest(10,['Salary'])"
   ]
  },
  {
   "cell_type": "code",
   "execution_count": null,
   "id": "b939fd17",
   "metadata": {},
   "outputs": [],
   "source": []
  }
 ],
 "metadata": {
  "kernelspec": {
   "display_name": "Python 3 (ipykernel)",
   "language": "python",
   "name": "python3"
  },
  "language_info": {
   "codemirror_mode": {
    "name": "ipython",
    "version": 3
   },
   "file_extension": ".py",
   "mimetype": "text/x-python",
   "name": "python",
   "nbconvert_exporter": "python",
   "pygments_lexer": "ipython3",
   "version": "3.9.12"
  }
 },
 "nbformat": 4,
 "nbformat_minor": 5
}
